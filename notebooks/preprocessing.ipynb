{
 "cells": [
  {
   "cell_type": "markdown",
   "metadata": {},
   "source": [
    "# DATA PREPROCESSING"
   ]
  },
  {
   "cell_type": "markdown",
   "metadata": {},
   "source": [
    "In this notebook, we will reorganize, clean up the dataset and create fingerprints for model training. My personal preference is to keep all libraries to be used at the beginning of the notebook and import them at the same time. Let's start with navigating to the project's root directory."
   ]
  },
  {
   "cell_type": "code",
   "execution_count": 1,
   "metadata": {},
   "outputs": [
    {
     "name": "stdout",
     "output_type": "stream",
     "text": [
      "/Users/mk/Projects/contrastive-learning\n"
     ]
    }
   ],
   "source": [
    "%cd .."
   ]
  },
  {
   "cell_type": "code",
   "execution_count": 2,
   "metadata": {},
   "outputs": [
    {
     "name": "stdout",
     "output_type": "stream",
     "text": [
      "Intel MKL WARNING: Support of Intel(R) Streaming SIMD Extensions 4.2 (Intel(R) SSE4.2) enabled only processors has been deprecated. Intel oneAPI Math Kernel Library 2025.0 will require Intel(R) Advanced Vector Extensions (Intel(R) AVX) instructions.\n",
      "Intel MKL WARNING: Support of Intel(R) Streaming SIMD Extensions 4.2 (Intel(R) SSE4.2) enabled only processors has been deprecated. Intel oneAPI Math Kernel Library 2025.0 will require Intel(R) Advanced Vector Extensions (Intel(R) AVX) instructions.\n"
     ]
    },
    {
     "name": "stderr",
     "output_type": "stream",
     "text": [
      "[21:11:43] Initializing Normalizer\n"
     ]
    }
   ],
   "source": [
    "import rdkit\n",
    "import numpy as np\n",
    "import pandas as pd\n",
    "from tqdm.notebook import tqdm\n",
    "from rdkit.Chem import MolFromSmiles, DataStructs, MolStandardize\n",
    "from rdkit.Chem.AllChem import GetMorganFingerprintAsBitVect\n",
    "from rdkit import RDLogger\n",
    "from chembl_structure_pipeline import standardize_mol\n",
    "from sklearn.model_selection import train_test_split\n",
    "from hydra import initialize, compose"
   ]
  },
  {
   "cell_type": "markdown",
   "metadata": {},
   "source": [
    "Disable RDKit warning messages before we start."
   ]
  },
  {
   "cell_type": "code",
   "execution_count": 3,
   "metadata": {},
   "outputs": [],
   "source": [
    "logger = RDLogger.logger()\n",
    "logger.setLevel(RDLogger.ERROR)"
   ]
  },
  {
   "cell_type": "markdown",
   "metadata": {},
   "source": [
    "Load parameters file (aka config file)."
   ]
  },
  {
   "cell_type": "code",
   "execution_count": 4,
   "metadata": {},
   "outputs": [],
   "source": [
    "with initialize(config_path=\"../\", version_base=None):\n",
    "    cfg = compose(config_name=\"params.yaml\")"
   ]
  },
  {
   "cell_type": "markdown",
   "metadata": {},
   "source": [
    "## Data Cleaning"
   ]
  },
  {
   "cell_type": "markdown",
   "metadata": {},
   "source": [
    "Load the data and take a peek into it."
   ]
  },
  {
   "cell_type": "code",
   "execution_count": 5,
   "metadata": {},
   "outputs": [
    {
     "name": "stderr",
     "output_type": "stream",
     "text": [
      "/var/folders/py/ptqbyrdn7yv9tj8d9ry9gpnw0000gn/T/ipykernel_71735/3202889972.py:2: DtypeWarning: Columns (129,134,141,169,174,181,209,214,221,249,254,261,289,294,301,329,334,341,369,374,381,409,414,421,449,454,461,489,494,501,529,534,541,569,574,581,609,614,621,649,654,661,689,694,701,729,734,741,769,774,781,809,814,821,849,854,861,889,894,901,929,934,941,969,974,981,1009,1014,1021,1049,1054,1061,1089,1094,1101,1129,1134,1141,1169,1174,1181,1209,1214,1221,1249,1254,1261,1289,1294,1301,1329,1334,1341,1369,1374,1381,1409,1414,1421,1449,1454,1461,1489,1494,1501,1529,1534,1541,1569,1574,1581,1609,1614,1621,1649,1654,1661,1689,1694,1701,1729,1734,1741,1769,1774,1781,1809,1814,1821,1849,1854,1861,1889,1894,1901,1929,1934,1941,1969,1974,1981,2009,2014,2021) have mixed types. Specify dtype option on import or set low_memory=False.\n",
      "  data = pd.read_csv(path)\n"
     ]
    },
    {
     "data": {
      "text/html": [
       "<div>\n",
       "<style scoped>\n",
       "    .dataframe tbody tr th:only-of-type {\n",
       "        vertical-align: middle;\n",
       "    }\n",
       "\n",
       "    .dataframe tbody tr th {\n",
       "        vertical-align: top;\n",
       "    }\n",
       "\n",
       "    .dataframe thead th {\n",
       "        text-align: right;\n",
       "    }\n",
       "</style>\n",
       "<table border=\"1\" class=\"dataframe\">\n",
       "  <thead>\n",
       "    <tr style=\"text-align: right;\">\n",
       "      <th></th>\n",
       "      <th>PUBCHEM_RESULT_TAG</th>\n",
       "      <th>PUBCHEM_SID</th>\n",
       "      <th>PUBCHEM_CID</th>\n",
       "      <th>PUBCHEM_EXT_DATASOURCE_SMILES</th>\n",
       "      <th>PUBCHEM_ACTIVITY_OUTCOME</th>\n",
       "      <th>PUBCHEM_ACTIVITY_SCORE</th>\n",
       "      <th>PUBCHEM_ACTIVITY_URL</th>\n",
       "      <th>PUBCHEM_ASSAYDATA_COMMENT</th>\n",
       "      <th>Phenotype-Replicate_1</th>\n",
       "      <th>Potency-Replicate_1</th>\n",
       "      <th>...</th>\n",
       "      <th>Activity at 23.64 uM-Replicate_51</th>\n",
       "      <th>Activity at 52.95 uM-Replicate_51</th>\n",
       "      <th>Activity at 115.2 uM-Replicate_51</th>\n",
       "      <th>Activity at 299.6 uM-Replicate_51</th>\n",
       "      <th>Activity at 1087.9 uM-Replicate_51</th>\n",
       "      <th>Activity at 2306.0 uM-Replicate_51</th>\n",
       "      <th>Activity at 5157.0 uM-Replicate_51</th>\n",
       "      <th>Activity at 11530.0 uM-Replicate_51</th>\n",
       "      <th>Activity at 25780.0 uM-Replicate_51</th>\n",
       "      <th>Activity at 57660.0 uM-Replicate_51</th>\n",
       "    </tr>\n",
       "  </thead>\n",
       "  <tbody>\n",
       "    <tr>\n",
       "      <th>0</th>\n",
       "      <td>1</td>\n",
       "      <td>144205501</td>\n",
       "      <td>17931.0</td>\n",
       "      <td>CN1C(=S)CN=C(C2=C1C=CC(=C2)Cl)C3=CC=CC=C3</td>\n",
       "      <td>Inconclusive</td>\n",
       "      <td>21</td>\n",
       "      <td>http://assay.nih.gov/htsws/rest/display/tox21-...</td>\n",
       "      <td>NaN</td>\n",
       "      <td>Inhibitor</td>\n",
       "      <td>15.4871</td>\n",
       "      <td>...</td>\n",
       "      <td>NaN</td>\n",
       "      <td>NaN</td>\n",
       "      <td>NaN</td>\n",
       "      <td>NaN</td>\n",
       "      <td>NaN</td>\n",
       "      <td>NaN</td>\n",
       "      <td>NaN</td>\n",
       "      <td>NaN</td>\n",
       "      <td>NaN</td>\n",
       "      <td>NaN</td>\n",
       "    </tr>\n",
       "    <tr>\n",
       "      <th>1</th>\n",
       "      <td>2</td>\n",
       "      <td>144206117</td>\n",
       "      <td>3045407.0</td>\n",
       "      <td>CO[C@H]1[C@@H](C[C@@H]2CN3CCC4=C([C@H]3C[C@@H]...</td>\n",
       "      <td>Active</td>\n",
       "      <td>85</td>\n",
       "      <td>http://assay.nih.gov/htsws/rest/display/tox21-...</td>\n",
       "      <td>NaN</td>\n",
       "      <td>Inhibitor</td>\n",
       "      <td>2.1876</td>\n",
       "      <td>...</td>\n",
       "      <td>NaN</td>\n",
       "      <td>NaN</td>\n",
       "      <td>NaN</td>\n",
       "      <td>NaN</td>\n",
       "      <td>NaN</td>\n",
       "      <td>NaN</td>\n",
       "      <td>NaN</td>\n",
       "      <td>NaN</td>\n",
       "      <td>NaN</td>\n",
       "      <td>NaN</td>\n",
       "    </tr>\n",
       "    <tr>\n",
       "      <th>2</th>\n",
       "      <td>3</td>\n",
       "      <td>144206325</td>\n",
       "      <td>14708.0</td>\n",
       "      <td>C[C@]12CC[C@H]3[C@H]([C@@H]1CC[C@]2(C)O)CC[C@@...</td>\n",
       "      <td>Active</td>\n",
       "      <td>61</td>\n",
       "      <td>http://assay.nih.gov/htsws/rest/display/tox21-...</td>\n",
       "      <td>NaN</td>\n",
       "      <td>Inhibitor</td>\n",
       "      <td>17.3768</td>\n",
       "      <td>...</td>\n",
       "      <td>NaN</td>\n",
       "      <td>NaN</td>\n",
       "      <td>NaN</td>\n",
       "      <td>NaN</td>\n",
       "      <td>NaN</td>\n",
       "      <td>NaN</td>\n",
       "      <td>NaN</td>\n",
       "      <td>NaN</td>\n",
       "      <td>NaN</td>\n",
       "      <td>NaN</td>\n",
       "    </tr>\n",
       "    <tr>\n",
       "      <th>3</th>\n",
       "      <td>4</td>\n",
       "      <td>144206326</td>\n",
       "      <td>3085168.0</td>\n",
       "      <td>CC1=NC=C(C(=N1)N)CN(C=O)/C(=C(\\CCO)/SS/C(=C(/C...</td>\n",
       "      <td>Active</td>\n",
       "      <td>41</td>\n",
       "      <td>http://assay.nih.gov/htsws/rest/display/tox21-...</td>\n",
       "      <td>NaN</td>\n",
       "      <td>Inhibitor</td>\n",
       "      <td>15.4871</td>\n",
       "      <td>...</td>\n",
       "      <td>NaN</td>\n",
       "      <td>NaN</td>\n",
       "      <td>NaN</td>\n",
       "      <td>NaN</td>\n",
       "      <td>NaN</td>\n",
       "      <td>NaN</td>\n",
       "      <td>NaN</td>\n",
       "      <td>NaN</td>\n",
       "      <td>NaN</td>\n",
       "      <td>NaN</td>\n",
       "    </tr>\n",
       "    <tr>\n",
       "      <th>4</th>\n",
       "      <td>5</td>\n",
       "      <td>144206328</td>\n",
       "      <td>54158.0</td>\n",
       "      <td>CC1=CC(=C(C(=C1NC(=O)CN(CC(=O)O)CC(=O)O)C)Br)C</td>\n",
       "      <td>Inactive</td>\n",
       "      <td>0</td>\n",
       "      <td>http://assay.nih.gov/htsws/rest/display/tox21-...</td>\n",
       "      <td>NaN</td>\n",
       "      <td>Inactive</td>\n",
       "      <td>NaN</td>\n",
       "      <td>...</td>\n",
       "      <td>NaN</td>\n",
       "      <td>NaN</td>\n",
       "      <td>NaN</td>\n",
       "      <td>NaN</td>\n",
       "      <td>NaN</td>\n",
       "      <td>NaN</td>\n",
       "      <td>NaN</td>\n",
       "      <td>NaN</td>\n",
       "      <td>NaN</td>\n",
       "      <td>NaN</td>\n",
       "    </tr>\n",
       "  </tbody>\n",
       "</table>\n",
       "<p>5 rows × 2049 columns</p>\n",
       "</div>"
      ],
      "text/plain": [
       "   PUBCHEM_RESULT_TAG  PUBCHEM_SID  PUBCHEM_CID  \\\n",
       "0                   1    144205501      17931.0   \n",
       "1                   2    144206117    3045407.0   \n",
       "2                   3    144206325      14708.0   \n",
       "3                   4    144206326    3085168.0   \n",
       "4                   5    144206328      54158.0   \n",
       "\n",
       "                       PUBCHEM_EXT_DATASOURCE_SMILES PUBCHEM_ACTIVITY_OUTCOME  \\\n",
       "0          CN1C(=S)CN=C(C2=C1C=CC(=C2)Cl)C3=CC=CC=C3             Inconclusive   \n",
       "1  CO[C@H]1[C@@H](C[C@@H]2CN3CCC4=C([C@H]3C[C@@H]...                   Active   \n",
       "2  C[C@]12CC[C@H]3[C@H]([C@@H]1CC[C@]2(C)O)CC[C@@...                   Active   \n",
       "3  CC1=NC=C(C(=N1)N)CN(C=O)/C(=C(\\CCO)/SS/C(=C(/C...                   Active   \n",
       "4     CC1=CC(=C(C(=C1NC(=O)CN(CC(=O)O)CC(=O)O)C)Br)C                 Inactive   \n",
       "\n",
       "   PUBCHEM_ACTIVITY_SCORE                               PUBCHEM_ACTIVITY_URL  \\\n",
       "0                      21  http://assay.nih.gov/htsws/rest/display/tox21-...   \n",
       "1                      85  http://assay.nih.gov/htsws/rest/display/tox21-...   \n",
       "2                      61  http://assay.nih.gov/htsws/rest/display/tox21-...   \n",
       "3                      41  http://assay.nih.gov/htsws/rest/display/tox21-...   \n",
       "4                       0  http://assay.nih.gov/htsws/rest/display/tox21-...   \n",
       "\n",
       "   PUBCHEM_ASSAYDATA_COMMENT Phenotype-Replicate_1  Potency-Replicate_1  ...  \\\n",
       "0                        NaN             Inhibitor              15.4871  ...   \n",
       "1                        NaN             Inhibitor               2.1876  ...   \n",
       "2                        NaN             Inhibitor              17.3768  ...   \n",
       "3                        NaN             Inhibitor              15.4871  ...   \n",
       "4                        NaN              Inactive                  NaN  ...   \n",
       "\n",
       "   Activity at 23.64 uM-Replicate_51  Activity at 52.95 uM-Replicate_51  \\\n",
       "0                                NaN                                NaN   \n",
       "1                                NaN                                NaN   \n",
       "2                                NaN                                NaN   \n",
       "3                                NaN                                NaN   \n",
       "4                                NaN                                NaN   \n",
       "\n",
       "   Activity at 115.2 uM-Replicate_51 Activity at 299.6 uM-Replicate_51  \\\n",
       "0                                NaN                               NaN   \n",
       "1                                NaN                               NaN   \n",
       "2                                NaN                               NaN   \n",
       "3                                NaN                               NaN   \n",
       "4                                NaN                               NaN   \n",
       "\n",
       "   Activity at 1087.9 uM-Replicate_51  Activity at 2306.0 uM-Replicate_51  \\\n",
       "0                                 NaN                                 NaN   \n",
       "1                                 NaN                                 NaN   \n",
       "2                                 NaN                                 NaN   \n",
       "3                                 NaN                                 NaN   \n",
       "4                                 NaN                                 NaN   \n",
       "\n",
       "   Activity at 5157.0 uM-Replicate_51  Activity at 11530.0 uM-Replicate_51  \\\n",
       "0                                 NaN                                  NaN   \n",
       "1                                 NaN                                  NaN   \n",
       "2                                 NaN                                  NaN   \n",
       "3                                 NaN                                  NaN   \n",
       "4                                 NaN                                  NaN   \n",
       "\n",
       "   Activity at 25780.0 uM-Replicate_51  Activity at 57660.0 uM-Replicate_51  \n",
       "0                                  NaN                                  NaN  \n",
       "1                                  NaN                                  NaN  \n",
       "2                                  NaN                                  NaN  \n",
       "3                                  NaN                                  NaN  \n",
       "4                                  NaN                                  NaN  \n",
       "\n",
       "[5 rows x 2049 columns]"
      ]
     },
     "execution_count": 5,
     "metadata": {},
     "output_type": "execute_result"
    }
   ],
   "source": [
    "path = cfg.preprocessing.fpath\n",
    "data = pd.read_csv(path)\n",
    "data.head()"
   ]
  },
  {
   "cell_type": "markdown",
   "metadata": {},
   "source": [
    "Let's check data types, NaNs, etc."
   ]
  },
  {
   "cell_type": "code",
   "execution_count": 6,
   "metadata": {},
   "outputs": [
    {
     "name": "stdout",
     "output_type": "stream",
     "text": [
      "<class 'pandas.core.frame.DataFrame'>\n",
      "RangeIndex: 9667 entries, 0 to 9666\n",
      "Columns: 2049 entries, PUBCHEM_RESULT_TAG to Activity at 57660.0 uM-Replicate_51\n",
      "dtypes: float64(1838), int64(54), object(157)\n",
      "memory usage: 151.1+ MB\n"
     ]
    }
   ],
   "source": [
    "data.info()"
   ]
  },
  {
   "cell_type": "markdown",
   "metadata": {},
   "source": [
    "There are more than 2000 columns in the dataset. Since I intent to make a quick example, I'll train a binary classification model and will only need the PUBCHEM_ACTIVITY_OUTCOME column to train my model on and PUBCHEM_EXT_DATASOURCE_SMILES column to create inputs to the model. Therefore, I'll create a new dataframe with the first 5 columns of the original dataframe. I'll keep the first three columns in case I need some identifiers after I clean the molecules and canonicalize the SMILES."
   ]
  },
  {
   "cell_type": "code",
   "execution_count": 7,
   "metadata": {},
   "outputs": [
    {
     "data": {
      "text/html": [
       "<div>\n",
       "<style scoped>\n",
       "    .dataframe tbody tr th:only-of-type {\n",
       "        vertical-align: middle;\n",
       "    }\n",
       "\n",
       "    .dataframe tbody tr th {\n",
       "        vertical-align: top;\n",
       "    }\n",
       "\n",
       "    .dataframe thead th {\n",
       "        text-align: right;\n",
       "    }\n",
       "</style>\n",
       "<table border=\"1\" class=\"dataframe\">\n",
       "  <thead>\n",
       "    <tr style=\"text-align: right;\">\n",
       "      <th></th>\n",
       "      <th>PUBCHEM_RESULT_TAG</th>\n",
       "      <th>PUBCHEM_SID</th>\n",
       "      <th>PUBCHEM_CID</th>\n",
       "      <th>PUBCHEM_EXT_DATASOURCE_SMILES</th>\n",
       "      <th>PUBCHEM_ACTIVITY_OUTCOME</th>\n",
       "    </tr>\n",
       "  </thead>\n",
       "  <tbody>\n",
       "    <tr>\n",
       "      <th>0</th>\n",
       "      <td>1</td>\n",
       "      <td>144205501</td>\n",
       "      <td>17931.0</td>\n",
       "      <td>CN1C(=S)CN=C(C2=C1C=CC(=C2)Cl)C3=CC=CC=C3</td>\n",
       "      <td>Inconclusive</td>\n",
       "    </tr>\n",
       "    <tr>\n",
       "      <th>1</th>\n",
       "      <td>2</td>\n",
       "      <td>144206117</td>\n",
       "      <td>3045407.0</td>\n",
       "      <td>CO[C@H]1[C@@H](C[C@@H]2CN3CCC4=C([C@H]3C[C@@H]...</td>\n",
       "      <td>Active</td>\n",
       "    </tr>\n",
       "    <tr>\n",
       "      <th>2</th>\n",
       "      <td>3</td>\n",
       "      <td>144206325</td>\n",
       "      <td>14708.0</td>\n",
       "      <td>C[C@]12CC[C@H]3[C@H]([C@@H]1CC[C@]2(C)O)CC[C@@...</td>\n",
       "      <td>Active</td>\n",
       "    </tr>\n",
       "    <tr>\n",
       "      <th>3</th>\n",
       "      <td>4</td>\n",
       "      <td>144206326</td>\n",
       "      <td>3085168.0</td>\n",
       "      <td>CC1=NC=C(C(=N1)N)CN(C=O)/C(=C(\\CCO)/SS/C(=C(/C...</td>\n",
       "      <td>Active</td>\n",
       "    </tr>\n",
       "    <tr>\n",
       "      <th>4</th>\n",
       "      <td>5</td>\n",
       "      <td>144206328</td>\n",
       "      <td>54158.0</td>\n",
       "      <td>CC1=CC(=C(C(=C1NC(=O)CN(CC(=O)O)CC(=O)O)C)Br)C</td>\n",
       "      <td>Inactive</td>\n",
       "    </tr>\n",
       "    <tr>\n",
       "      <th>...</th>\n",
       "      <td>...</td>\n",
       "      <td>...</td>\n",
       "      <td>...</td>\n",
       "      <td>...</td>\n",
       "      <td>...</td>\n",
       "    </tr>\n",
       "    <tr>\n",
       "      <th>9662</th>\n",
       "      <td>9663</td>\n",
       "      <td>251919987</td>\n",
       "      <td>23664984.0</td>\n",
       "      <td>CCC1=C(C(=CC=C1)CC)N(COC)C(=O)CS(=O)(=O)[O-].[...</td>\n",
       "      <td>Inactive</td>\n",
       "    </tr>\n",
       "    <tr>\n",
       "      <th>9663</th>\n",
       "      <td>9664</td>\n",
       "      <td>251919988</td>\n",
       "      <td>2724429.0</td>\n",
       "      <td>CCCC(C(CO)O)O</td>\n",
       "      <td>Inactive</td>\n",
       "    </tr>\n",
       "    <tr>\n",
       "      <th>9664</th>\n",
       "      <td>9665</td>\n",
       "      <td>251919989</td>\n",
       "      <td>13059052.0</td>\n",
       "      <td>CC(C)(C1=CC(=C(C=C1)O)C2=CC=CC=C2)C3=CC(=C(C=C...</td>\n",
       "      <td>Active</td>\n",
       "    </tr>\n",
       "    <tr>\n",
       "      <th>9665</th>\n",
       "      <td>9666</td>\n",
       "      <td>251919990</td>\n",
       "      <td>14178379.0</td>\n",
       "      <td>C1=CC=C(C=C1)COC2=CC=C(C=C2)S(=O)(=O)C3=CC=CC=C3O</td>\n",
       "      <td>Inactive</td>\n",
       "    </tr>\n",
       "    <tr>\n",
       "      <th>9666</th>\n",
       "      <td>9667</td>\n",
       "      <td>251919991</td>\n",
       "      <td>NaN</td>\n",
       "      <td>NaN</td>\n",
       "      <td>Inactive</td>\n",
       "    </tr>\n",
       "  </tbody>\n",
       "</table>\n",
       "<p>9667 rows × 5 columns</p>\n",
       "</div>"
      ],
      "text/plain": [
       "      PUBCHEM_RESULT_TAG  PUBCHEM_SID  PUBCHEM_CID  \\\n",
       "0                      1    144205501      17931.0   \n",
       "1                      2    144206117    3045407.0   \n",
       "2                      3    144206325      14708.0   \n",
       "3                      4    144206326    3085168.0   \n",
       "4                      5    144206328      54158.0   \n",
       "...                  ...          ...          ...   \n",
       "9662                9663    251919987   23664984.0   \n",
       "9663                9664    251919988    2724429.0   \n",
       "9664                9665    251919989   13059052.0   \n",
       "9665                9666    251919990   14178379.0   \n",
       "9666                9667    251919991          NaN   \n",
       "\n",
       "                          PUBCHEM_EXT_DATASOURCE_SMILES  \\\n",
       "0             CN1C(=S)CN=C(C2=C1C=CC(=C2)Cl)C3=CC=CC=C3   \n",
       "1     CO[C@H]1[C@@H](C[C@@H]2CN3CCC4=C([C@H]3C[C@@H]...   \n",
       "2     C[C@]12CC[C@H]3[C@H]([C@@H]1CC[C@]2(C)O)CC[C@@...   \n",
       "3     CC1=NC=C(C(=N1)N)CN(C=O)/C(=C(\\CCO)/SS/C(=C(/C...   \n",
       "4        CC1=CC(=C(C(=C1NC(=O)CN(CC(=O)O)CC(=O)O)C)Br)C   \n",
       "...                                                 ...   \n",
       "9662  CCC1=C(C(=CC=C1)CC)N(COC)C(=O)CS(=O)(=O)[O-].[...   \n",
       "9663                                      CCCC(C(CO)O)O   \n",
       "9664  CC(C)(C1=CC(=C(C=C1)O)C2=CC=CC=C2)C3=CC(=C(C=C...   \n",
       "9665  C1=CC=C(C=C1)COC2=CC=C(C=C2)S(=O)(=O)C3=CC=CC=C3O   \n",
       "9666                                                NaN   \n",
       "\n",
       "     PUBCHEM_ACTIVITY_OUTCOME  \n",
       "0                Inconclusive  \n",
       "1                      Active  \n",
       "2                      Active  \n",
       "3                      Active  \n",
       "4                    Inactive  \n",
       "...                       ...  \n",
       "9662                 Inactive  \n",
       "9663                 Inactive  \n",
       "9664                   Active  \n",
       "9665                 Inactive  \n",
       "9666                 Inactive  \n",
       "\n",
       "[9667 rows x 5 columns]"
      ]
     },
     "execution_count": 7,
     "metadata": {},
     "output_type": "execute_result"
    }
   ],
   "source": [
    "data_cropped = data.iloc[:,0:5]\n",
    "data_cropped"
   ]
  },
  {
   "cell_type": "markdown",
   "metadata": {},
   "source": [
    "Let's check the datatypes again."
   ]
  },
  {
   "cell_type": "code",
   "execution_count": 8,
   "metadata": {},
   "outputs": [
    {
     "name": "stdout",
     "output_type": "stream",
     "text": [
      "<class 'pandas.core.frame.DataFrame'>\n",
      "RangeIndex: 9667 entries, 0 to 9666\n",
      "Data columns (total 5 columns):\n",
      " #   Column                         Non-Null Count  Dtype  \n",
      "---  ------                         --------------  -----  \n",
      " 0   PUBCHEM_RESULT_TAG             9667 non-null   int64  \n",
      " 1   PUBCHEM_SID                    9667 non-null   int64  \n",
      " 2   PUBCHEM_CID                    9524 non-null   float64\n",
      " 3   PUBCHEM_EXT_DATASOURCE_SMILES  9524 non-null   object \n",
      " 4   PUBCHEM_ACTIVITY_OUTCOME       9667 non-null   object \n",
      "dtypes: float64(1), int64(2), object(2)\n",
      "memory usage: 377.7+ KB\n"
     ]
    }
   ],
   "source": [
    "data_cropped.info()"
   ]
  },
  {
   "cell_type": "markdown",
   "metadata": {},
   "source": [
    "The dataframe is indexed properly. Column #3,4 have missing values. PUBCHEM_CID is an identifier column, but there are two more identifier columns. So, col #3 is okay, but col #4 is our input column. So, we need to drop NaNs in the PUBCHEM_EXT_DATASOURCE_SMILES column."
   ]
  },
  {
   "cell_type": "code",
   "execution_count": 9,
   "metadata": {},
   "outputs": [
    {
     "data": {
      "text/html": [
       "<div>\n",
       "<style scoped>\n",
       "    .dataframe tbody tr th:only-of-type {\n",
       "        vertical-align: middle;\n",
       "    }\n",
       "\n",
       "    .dataframe tbody tr th {\n",
       "        vertical-align: top;\n",
       "    }\n",
       "\n",
       "    .dataframe thead th {\n",
       "        text-align: right;\n",
       "    }\n",
       "</style>\n",
       "<table border=\"1\" class=\"dataframe\">\n",
       "  <thead>\n",
       "    <tr style=\"text-align: right;\">\n",
       "      <th></th>\n",
       "      <th>PUBCHEM_RESULT_TAG</th>\n",
       "      <th>PUBCHEM_SID</th>\n",
       "      <th>PUBCHEM_CID</th>\n",
       "      <th>PUBCHEM_EXT_DATASOURCE_SMILES</th>\n",
       "      <th>PUBCHEM_ACTIVITY_OUTCOME</th>\n",
       "    </tr>\n",
       "  </thead>\n",
       "  <tbody>\n",
       "    <tr>\n",
       "      <th>0</th>\n",
       "      <td>1</td>\n",
       "      <td>144205501</td>\n",
       "      <td>17931.0</td>\n",
       "      <td>CN1C(=S)CN=C(C2=C1C=CC(=C2)Cl)C3=CC=CC=C3</td>\n",
       "      <td>Inconclusive</td>\n",
       "    </tr>\n",
       "    <tr>\n",
       "      <th>1</th>\n",
       "      <td>2</td>\n",
       "      <td>144206117</td>\n",
       "      <td>3045407.0</td>\n",
       "      <td>CO[C@H]1[C@@H](C[C@@H]2CN3CCC4=C([C@H]3C[C@@H]...</td>\n",
       "      <td>Active</td>\n",
       "    </tr>\n",
       "    <tr>\n",
       "      <th>2</th>\n",
       "      <td>3</td>\n",
       "      <td>144206325</td>\n",
       "      <td>14708.0</td>\n",
       "      <td>C[C@]12CC[C@H]3[C@H]([C@@H]1CC[C@]2(C)O)CC[C@@...</td>\n",
       "      <td>Active</td>\n",
       "    </tr>\n",
       "    <tr>\n",
       "      <th>3</th>\n",
       "      <td>4</td>\n",
       "      <td>144206326</td>\n",
       "      <td>3085168.0</td>\n",
       "      <td>CC1=NC=C(C(=N1)N)CN(C=O)/C(=C(\\CCO)/SS/C(=C(/C...</td>\n",
       "      <td>Active</td>\n",
       "    </tr>\n",
       "    <tr>\n",
       "      <th>4</th>\n",
       "      <td>5</td>\n",
       "      <td>144206328</td>\n",
       "      <td>54158.0</td>\n",
       "      <td>CC1=CC(=C(C(=C1NC(=O)CN(CC(=O)O)CC(=O)O)C)Br)C</td>\n",
       "      <td>Inactive</td>\n",
       "    </tr>\n",
       "    <tr>\n",
       "      <th>...</th>\n",
       "      <td>...</td>\n",
       "      <td>...</td>\n",
       "      <td>...</td>\n",
       "      <td>...</td>\n",
       "      <td>...</td>\n",
       "    </tr>\n",
       "    <tr>\n",
       "      <th>9661</th>\n",
       "      <td>9662</td>\n",
       "      <td>251919986</td>\n",
       "      <td>47364.0</td>\n",
       "      <td>C[As+](C)(C)CC(=O)[O-]</td>\n",
       "      <td>Inactive</td>\n",
       "    </tr>\n",
       "    <tr>\n",
       "      <th>9662</th>\n",
       "      <td>9663</td>\n",
       "      <td>251919987</td>\n",
       "      <td>23664984.0</td>\n",
       "      <td>CCC1=C(C(=CC=C1)CC)N(COC)C(=O)CS(=O)(=O)[O-].[...</td>\n",
       "      <td>Inactive</td>\n",
       "    </tr>\n",
       "    <tr>\n",
       "      <th>9663</th>\n",
       "      <td>9664</td>\n",
       "      <td>251919988</td>\n",
       "      <td>2724429.0</td>\n",
       "      <td>CCCC(C(CO)O)O</td>\n",
       "      <td>Inactive</td>\n",
       "    </tr>\n",
       "    <tr>\n",
       "      <th>9664</th>\n",
       "      <td>9665</td>\n",
       "      <td>251919989</td>\n",
       "      <td>13059052.0</td>\n",
       "      <td>CC(C)(C1=CC(=C(C=C1)O)C2=CC=CC=C2)C3=CC(=C(C=C...</td>\n",
       "      <td>Active</td>\n",
       "    </tr>\n",
       "    <tr>\n",
       "      <th>9665</th>\n",
       "      <td>9666</td>\n",
       "      <td>251919990</td>\n",
       "      <td>14178379.0</td>\n",
       "      <td>C1=CC=C(C=C1)COC2=CC=C(C=C2)S(=O)(=O)C3=CC=CC=C3O</td>\n",
       "      <td>Inactive</td>\n",
       "    </tr>\n",
       "  </tbody>\n",
       "</table>\n",
       "<p>9524 rows × 5 columns</p>\n",
       "</div>"
      ],
      "text/plain": [
       "      PUBCHEM_RESULT_TAG  PUBCHEM_SID  PUBCHEM_CID  \\\n",
       "0                      1    144205501      17931.0   \n",
       "1                      2    144206117    3045407.0   \n",
       "2                      3    144206325      14708.0   \n",
       "3                      4    144206326    3085168.0   \n",
       "4                      5    144206328      54158.0   \n",
       "...                  ...          ...          ...   \n",
       "9661                9662    251919986      47364.0   \n",
       "9662                9663    251919987   23664984.0   \n",
       "9663                9664    251919988    2724429.0   \n",
       "9664                9665    251919989   13059052.0   \n",
       "9665                9666    251919990   14178379.0   \n",
       "\n",
       "                          PUBCHEM_EXT_DATASOURCE_SMILES  \\\n",
       "0             CN1C(=S)CN=C(C2=C1C=CC(=C2)Cl)C3=CC=CC=C3   \n",
       "1     CO[C@H]1[C@@H](C[C@@H]2CN3CCC4=C([C@H]3C[C@@H]...   \n",
       "2     C[C@]12CC[C@H]3[C@H]([C@@H]1CC[C@]2(C)O)CC[C@@...   \n",
       "3     CC1=NC=C(C(=N1)N)CN(C=O)/C(=C(\\CCO)/SS/C(=C(/C...   \n",
       "4        CC1=CC(=C(C(=C1NC(=O)CN(CC(=O)O)CC(=O)O)C)Br)C   \n",
       "...                                                 ...   \n",
       "9661                             C[As+](C)(C)CC(=O)[O-]   \n",
       "9662  CCC1=C(C(=CC=C1)CC)N(COC)C(=O)CS(=O)(=O)[O-].[...   \n",
       "9663                                      CCCC(C(CO)O)O   \n",
       "9664  CC(C)(C1=CC(=C(C=C1)O)C2=CC=CC=C2)C3=CC(=C(C=C...   \n",
       "9665  C1=CC=C(C=C1)COC2=CC=C(C=C2)S(=O)(=O)C3=CC=CC=C3O   \n",
       "\n",
       "     PUBCHEM_ACTIVITY_OUTCOME  \n",
       "0                Inconclusive  \n",
       "1                      Active  \n",
       "2                      Active  \n",
       "3                      Active  \n",
       "4                    Inactive  \n",
       "...                       ...  \n",
       "9661                 Inactive  \n",
       "9662                 Inactive  \n",
       "9663                 Inactive  \n",
       "9664                   Active  \n",
       "9665                 Inactive  \n",
       "\n",
       "[9524 rows x 5 columns]"
      ]
     },
     "execution_count": 9,
     "metadata": {},
     "output_type": "execute_result"
    }
   ],
   "source": [
    "data_cropped.dropna(subset=[\"PUBCHEM_EXT_DATASOURCE_SMILES\"], axis=0,inplace=True)\n",
    "data_cropped"
   ]
  },
  {
   "cell_type": "code",
   "execution_count": 10,
   "metadata": {},
   "outputs": [
    {
     "data": {
      "text/plain": [
       "PUBCHEM_ACTIVITY_OUTCOME\n",
       "Inactive        6771\n",
       "Active          1779\n",
       "Inconclusive     974\n",
       "Name: count, dtype: int64"
      ]
     },
     "execution_count": 10,
     "metadata": {},
     "output_type": "execute_result"
    }
   ],
   "source": [
    "data_cropped['PUBCHEM_ACTIVITY_OUTCOME'].value_counts()"
   ]
  },
  {
   "cell_type": "markdown",
   "metadata": {},
   "source": [
    "There are active, inactive and inconclusive compounds. I'll drop inconclusives to binarize the model outcome and simplify the problem for this example."
   ]
  },
  {
   "cell_type": "code",
   "execution_count": 11,
   "metadata": {},
   "outputs": [
    {
     "data": {
      "text/html": [
       "<div>\n",
       "<style scoped>\n",
       "    .dataframe tbody tr th:only-of-type {\n",
       "        vertical-align: middle;\n",
       "    }\n",
       "\n",
       "    .dataframe tbody tr th {\n",
       "        vertical-align: top;\n",
       "    }\n",
       "\n",
       "    .dataframe thead th {\n",
       "        text-align: right;\n",
       "    }\n",
       "</style>\n",
       "<table border=\"1\" class=\"dataframe\">\n",
       "  <thead>\n",
       "    <tr style=\"text-align: right;\">\n",
       "      <th></th>\n",
       "      <th>PUBCHEM_RESULT_TAG</th>\n",
       "      <th>PUBCHEM_SID</th>\n",
       "      <th>PUBCHEM_CID</th>\n",
       "      <th>PUBCHEM_EXT_DATASOURCE_SMILES</th>\n",
       "      <th>PUBCHEM_ACTIVITY_OUTCOME</th>\n",
       "    </tr>\n",
       "  </thead>\n",
       "  <tbody>\n",
       "    <tr>\n",
       "      <th>0</th>\n",
       "      <td>2</td>\n",
       "      <td>144206117</td>\n",
       "      <td>3045407.0</td>\n",
       "      <td>CO[C@H]1[C@@H](C[C@@H]2CN3CCC4=C([C@H]3C[C@@H]...</td>\n",
       "      <td>Active</td>\n",
       "    </tr>\n",
       "    <tr>\n",
       "      <th>1</th>\n",
       "      <td>3</td>\n",
       "      <td>144206325</td>\n",
       "      <td>14708.0</td>\n",
       "      <td>C[C@]12CC[C@H]3[C@H]([C@@H]1CC[C@]2(C)O)CC[C@@...</td>\n",
       "      <td>Active</td>\n",
       "    </tr>\n",
       "    <tr>\n",
       "      <th>2</th>\n",
       "      <td>4</td>\n",
       "      <td>144206326</td>\n",
       "      <td>3085168.0</td>\n",
       "      <td>CC1=NC=C(C(=N1)N)CN(C=O)/C(=C(\\CCO)/SS/C(=C(/C...</td>\n",
       "      <td>Active</td>\n",
       "    </tr>\n",
       "    <tr>\n",
       "      <th>3</th>\n",
       "      <td>5</td>\n",
       "      <td>144206328</td>\n",
       "      <td>54158.0</td>\n",
       "      <td>CC1=CC(=C(C(=C1NC(=O)CN(CC(=O)O)CC(=O)O)C)Br)C</td>\n",
       "      <td>Inactive</td>\n",
       "    </tr>\n",
       "    <tr>\n",
       "      <th>4</th>\n",
       "      <td>6</td>\n",
       "      <td>144206329</td>\n",
       "      <td>92140.0</td>\n",
       "      <td>CCCC(=O)OC[C@H]([C@H]([C@H](CN1C2=C(C=C(C(=C2)...</td>\n",
       "      <td>Active</td>\n",
       "    </tr>\n",
       "    <tr>\n",
       "      <th>...</th>\n",
       "      <td>...</td>\n",
       "      <td>...</td>\n",
       "      <td>...</td>\n",
       "      <td>...</td>\n",
       "      <td>...</td>\n",
       "    </tr>\n",
       "    <tr>\n",
       "      <th>8545</th>\n",
       "      <td>9662</td>\n",
       "      <td>251919986</td>\n",
       "      <td>47364.0</td>\n",
       "      <td>C[As+](C)(C)CC(=O)[O-]</td>\n",
       "      <td>Inactive</td>\n",
       "    </tr>\n",
       "    <tr>\n",
       "      <th>8546</th>\n",
       "      <td>9663</td>\n",
       "      <td>251919987</td>\n",
       "      <td>23664984.0</td>\n",
       "      <td>CCC1=C(C(=CC=C1)CC)N(COC)C(=O)CS(=O)(=O)[O-].[...</td>\n",
       "      <td>Inactive</td>\n",
       "    </tr>\n",
       "    <tr>\n",
       "      <th>8547</th>\n",
       "      <td>9664</td>\n",
       "      <td>251919988</td>\n",
       "      <td>2724429.0</td>\n",
       "      <td>CCCC(C(CO)O)O</td>\n",
       "      <td>Inactive</td>\n",
       "    </tr>\n",
       "    <tr>\n",
       "      <th>8548</th>\n",
       "      <td>9665</td>\n",
       "      <td>251919989</td>\n",
       "      <td>13059052.0</td>\n",
       "      <td>CC(C)(C1=CC(=C(C=C1)O)C2=CC=CC=C2)C3=CC(=C(C=C...</td>\n",
       "      <td>Active</td>\n",
       "    </tr>\n",
       "    <tr>\n",
       "      <th>8549</th>\n",
       "      <td>9666</td>\n",
       "      <td>251919990</td>\n",
       "      <td>14178379.0</td>\n",
       "      <td>C1=CC=C(C=C1)COC2=CC=C(C=C2)S(=O)(=O)C3=CC=CC=C3O</td>\n",
       "      <td>Inactive</td>\n",
       "    </tr>\n",
       "  </tbody>\n",
       "</table>\n",
       "<p>8550 rows × 5 columns</p>\n",
       "</div>"
      ],
      "text/plain": [
       "      PUBCHEM_RESULT_TAG  PUBCHEM_SID  PUBCHEM_CID  \\\n",
       "0                      2    144206117    3045407.0   \n",
       "1                      3    144206325      14708.0   \n",
       "2                      4    144206326    3085168.0   \n",
       "3                      5    144206328      54158.0   \n",
       "4                      6    144206329      92140.0   \n",
       "...                  ...          ...          ...   \n",
       "8545                9662    251919986      47364.0   \n",
       "8546                9663    251919987   23664984.0   \n",
       "8547                9664    251919988    2724429.0   \n",
       "8548                9665    251919989   13059052.0   \n",
       "8549                9666    251919990   14178379.0   \n",
       "\n",
       "                          PUBCHEM_EXT_DATASOURCE_SMILES  \\\n",
       "0     CO[C@H]1[C@@H](C[C@@H]2CN3CCC4=C([C@H]3C[C@@H]...   \n",
       "1     C[C@]12CC[C@H]3[C@H]([C@@H]1CC[C@]2(C)O)CC[C@@...   \n",
       "2     CC1=NC=C(C(=N1)N)CN(C=O)/C(=C(\\CCO)/SS/C(=C(/C...   \n",
       "3        CC1=CC(=C(C(=C1NC(=O)CN(CC(=O)O)CC(=O)O)C)Br)C   \n",
       "4     CCCC(=O)OC[C@H]([C@H]([C@H](CN1C2=C(C=C(C(=C2)...   \n",
       "...                                                 ...   \n",
       "8545                             C[As+](C)(C)CC(=O)[O-]   \n",
       "8546  CCC1=C(C(=CC=C1)CC)N(COC)C(=O)CS(=O)(=O)[O-].[...   \n",
       "8547                                      CCCC(C(CO)O)O   \n",
       "8548  CC(C)(C1=CC(=C(C=C1)O)C2=CC=CC=C2)C3=CC(=C(C=C...   \n",
       "8549  C1=CC=C(C=C1)COC2=CC=C(C=C2)S(=O)(=O)C3=CC=CC=C3O   \n",
       "\n",
       "     PUBCHEM_ACTIVITY_OUTCOME  \n",
       "0                      Active  \n",
       "1                      Active  \n",
       "2                      Active  \n",
       "3                    Inactive  \n",
       "4                      Active  \n",
       "...                       ...  \n",
       "8545                 Inactive  \n",
       "8546                 Inactive  \n",
       "8547                 Inactive  \n",
       "8548                   Active  \n",
       "8549                 Inactive  \n",
       "\n",
       "[8550 rows x 5 columns]"
      ]
     },
     "execution_count": 11,
     "metadata": {},
     "output_type": "execute_result"
    }
   ],
   "source": [
    "inconclusives = [id for id, row in data_cropped.iterrows() if row[\"PUBCHEM_ACTIVITY_OUTCOME\"] == \"Inconclusive\"]\n",
    "data_cropped.drop(labels=inconclusives, axis=0, inplace=True)\n",
    "data_cropped.reset_index(drop=True, inplace=True)\n",
    "data_cropped"
   ]
  },
  {
   "cell_type": "markdown",
   "metadata": {},
   "source": [
    "I will not do anymore cleaning on this dataset. It is pretty much ready for fingerprint creation. So, I'll save it as the intermediate dataset."
   ]
  },
  {
   "cell_type": "code",
   "execution_count": 12,
   "metadata": {},
   "outputs": [],
   "source": [
    "data_cropped.to_csv(cfg.preprocessing.savepath, index=False)"
   ]
  },
  {
   "cell_type": "markdown",
   "metadata": {},
   "source": [
    "## Preparation of Training and Validation Sets"
   ]
  },
  {
   "cell_type": "markdown",
   "metadata": {},
   "source": [
    "In this part of the notebook, we will create fingerprints from SMILES first. Then, we will split the dataset into training and validation sets for model training. Let's standardize compounds and create fingerprints. First, get mols from SMILES."
   ]
  },
  {
   "cell_type": "code",
   "execution_count": 13,
   "metadata": {},
   "outputs": [
    {
     "data": {
      "application/vnd.jupyter.widget-view+json": {
       "model_id": "14fd40e348fc4942bf3714ae0c0dba1a",
       "version_major": 2,
       "version_minor": 0
      },
      "text/plain": [
       "  0%|          | 0/8550 [00:00<?, ?it/s]"
      ]
     },
     "metadata": {},
     "output_type": "display_data"
    },
    {
     "name": "stderr",
     "output_type": "stream",
     "text": [
      "[21:11:47] Explicit valence for atom # 1 Si, 8, is greater than permitted\n"
     ]
    }
   ],
   "source": [
    "ROMols= [MolFromSmiles(smiles) for smiles in tqdm(data_cropped['PUBCHEM_EXT_DATASOURCE_SMILES'])]"
   ]
  },
  {
   "cell_type": "markdown",
   "metadata": {},
   "source": [
    "I checked mols and found some bad molecules (due to the input). Therefore, I will use a try-except loop to catch bad mols and drop them from the dataframe."
   ]
  },
  {
   "cell_type": "code",
   "execution_count": 14,
   "metadata": {},
   "outputs": [],
   "source": [
    "std_mols = []\n",
    "bad_mols = []\n",
    "bad_ids = []\n",
    "desalter = MolStandardize.fragment.LargestFragmentChooser()\n"
   ]
  },
  {
   "cell_type": "code",
   "execution_count": 15,
   "metadata": {},
   "outputs": [
    {
     "data": {
      "application/vnd.jupyter.widget-view+json": {
       "model_id": "dfd1de9fe93541c2bbcd2b5d17043639",
       "version_major": 2,
       "version_minor": 0
      },
      "text/plain": [
       "  0%|          | 0/8550 [00:00<?, ?it/s]"
      ]
     },
     "metadata": {},
     "output_type": "display_data"
    }
   ],
   "source": [
    "for id,mol in enumerate(tqdm(ROMols)):\n",
    "    try:\n",
    "        std_mol = standardize_mol(mol)\n",
    "        desalt_mol = desalter.choose(std_mol)\n",
    "        std_mol = standardize_mol(desalt_mol)\n",
    "        std_mols.append(std_mol)\n",
    "    except:\n",
    "        bad_mols.append(mol)\n",
    "        bad_ids.append(id)"
   ]
  },
  {
   "cell_type": "markdown",
   "metadata": {},
   "source": [
    "Let's check the bad molecules."
   ]
  },
  {
   "cell_type": "code",
   "execution_count": 16,
   "metadata": {},
   "outputs": [
    {
     "name": "stdout",
     "output_type": "stream",
     "text": [
      "[None]\n",
      "[4937]\n"
     ]
    }
   ],
   "source": [
    "print(bad_mols)\n",
    "print(bad_ids)"
   ]
  },
  {
   "cell_type": "markdown",
   "metadata": {},
   "source": [
    "There is nothing left of SMILES 4937 after the cleanup. I'll drop this mol from ROMols and, also, from the dataframe."
   ]
  },
  {
   "cell_type": "code",
   "execution_count": 17,
   "metadata": {},
   "outputs": [],
   "source": [
    "ROMols.pop(bad_ids[0])\n",
    "data_cropped.drop(labels=bad_ids, axis=0, inplace=True)\n",
    "data_cropped.reset_index(drop=True, inplace=True)"
   ]
  },
  {
   "cell_type": "markdown",
   "metadata": {},
   "source": [
    "Now, we can create fingerprints and split the dataset into training and validation sets."
   ]
  },
  {
   "cell_type": "code",
   "execution_count": 18,
   "metadata": {},
   "outputs": [],
   "source": [
    "def create_ecfp(\n",
    "        mol: rdkit.Chem.rdchem.Mol,\n",
    "        radius: int = 3,\n",
    "        nbits: int = 1024\n",
    "        ) -> np.ndarray:\n",
    "    \n",
    "    mfbitvector = GetMorganFingerprintAsBitVect(mol, radius, nbits)\n",
    "    arr = np.zeros((1,0))\n",
    "    DataStructs.ConvertToNumpyArray(mfbitvector, arr)\n",
    "    \n",
    "    return arr\n"
   ]
  },
  {
   "cell_type": "code",
   "execution_count": 19,
   "metadata": {},
   "outputs": [
    {
     "data": {
      "application/vnd.jupyter.widget-view+json": {
       "model_id": "ec4a5da828334b72a18c8bd2468d2275",
       "version_major": 2,
       "version_minor": 0
      },
      "text/plain": [
       "  0%|          | 0/8549 [00:00<?, ?it/s]"
      ]
     },
     "metadata": {},
     "output_type": "display_data"
    }
   ],
   "source": [
    "ecfps = [create_ecfp(mol, cfg.preprocessing.radius, cfg.preprocessing.nbits) for mol in tqdm(std_mols)]"
   ]
  },
  {
   "cell_type": "markdown",
   "metadata": {},
   "source": [
    "Next, binarize PUBCHEM_ACTIVITY_OUTCOMEs."
   ]
  },
  {
   "cell_type": "code",
   "execution_count": 20,
   "metadata": {},
   "outputs": [],
   "source": [
    "labels = [int(1) if activity == \"Active\" else int(0) for activity in data_cropped[\"PUBCHEM_ACTIVITY_OUTCOME\"]]"
   ]
  },
  {
   "cell_type": "markdown",
   "metadata": {},
   "source": [
    "Finally, split the dataset into training and validation sets. I'll use 80:20 stratified split."
   ]
  },
  {
   "cell_type": "code",
   "execution_count": 21,
   "metadata": {},
   "outputs": [],
   "source": [
    "X_train, X_val, y_train, y_val = train_test_split(ecfps, labels, test_size=0.2, random_state=7)"
   ]
  },
  {
   "cell_type": "code",
   "execution_count": 22,
   "metadata": {},
   "outputs": [
    {
     "name": "stdout",
     "output_type": "stream",
     "text": [
      "Training set size: 6839\n",
      "Validation set size: 1710\n"
     ]
    }
   ],
   "source": [
    "print(f\"Training set size: {len(X_train)}\")\n",
    "print(f\"Validation set size: {len(X_val)}\")"
   ]
  },
  {
   "cell_type": "markdown",
   "metadata": {},
   "source": [
    "Now, save training and validation sets. I'll use the parquet file format to preserve the file formats."
   ]
  },
  {
   "cell_type": "code",
   "execution_count": 23,
   "metadata": {},
   "outputs": [
    {
     "name": "stdout",
     "output_type": "stream",
     "text": [
      "                                                   ecfp  y\n",
      "0     [0.0, 0.0, 0.0, 0.0, 0.0, 0.0, 0.0, 0.0, 0.0, ...  0\n",
      "1     [0.0, 0.0, 0.0, 0.0, 0.0, 0.0, 0.0, 0.0, 0.0, ...  0\n",
      "2     [0.0, 0.0, 0.0, 0.0, 0.0, 0.0, 0.0, 0.0, 0.0, ...  0\n",
      "3     [0.0, 1.0, 0.0, 0.0, 0.0, 0.0, 0.0, 0.0, 0.0, ...  0\n",
      "4     [0.0, 0.0, 0.0, 0.0, 0.0, 0.0, 0.0, 0.0, 0.0, ...  0\n",
      "...                                                 ... ..\n",
      "6834  [0.0, 0.0, 0.0, 0.0, 0.0, 0.0, 0.0, 0.0, 0.0, ...  0\n",
      "6835  [0.0, 0.0, 0.0, 0.0, 0.0, 0.0, 0.0, 0.0, 0.0, ...  0\n",
      "6836  [0.0, 0.0, 0.0, 0.0, 0.0, 0.0, 0.0, 0.0, 0.0, ...  1\n",
      "6837  [0.0, 1.0, 0.0, 0.0, 0.0, 0.0, 0.0, 0.0, 0.0, ...  0\n",
      "6838  [0.0, 0.0, 0.0, 0.0, 0.0, 0.0, 0.0, 0.0, 0.0, ...  0\n",
      "\n",
      "[6839 rows x 2 columns]\n",
      "                                                   ecfp  y\n",
      "0     [0.0, 0.0, 0.0, 0.0, 0.0, 0.0, 0.0, 0.0, 0.0, ...  0\n",
      "1     [0.0, 0.0, 0.0, 0.0, 0.0, 0.0, 0.0, 0.0, 0.0, ...  1\n",
      "2     [0.0, 0.0, 0.0, 0.0, 0.0, 0.0, 0.0, 0.0, 0.0, ...  0\n",
      "3     [0.0, 0.0, 0.0, 0.0, 0.0, 0.0, 0.0, 0.0, 0.0, ...  0\n",
      "4     [0.0, 0.0, 0.0, 0.0, 0.0, 0.0, 0.0, 0.0, 0.0, ...  0\n",
      "...                                                 ... ..\n",
      "1705  [0.0, 0.0, 0.0, 0.0, 0.0, 0.0, 0.0, 0.0, 0.0, ...  1\n",
      "1706  [0.0, 0.0, 0.0, 0.0, 0.0, 0.0, 0.0, 0.0, 0.0, ...  0\n",
      "1707  [0.0, 0.0, 0.0, 0.0, 0.0, 0.0, 0.0, 0.0, 0.0, ...  0\n",
      "1708  [0.0, 1.0, 0.0, 0.0, 0.0, 0.0, 0.0, 0.0, 0.0, ...  0\n",
      "1709  [0.0, 0.0, 0.0, 0.0, 0.0, 0.0, 0.0, 0.0, 0.0, ...  1\n",
      "\n",
      "[1710 rows x 2 columns]\n"
     ]
    },
    {
     "name": "stderr",
     "output_type": "stream",
     "text": [
      "/Users/mk/opt/anaconda3/envs/deeplearning/lib/python3.10/site-packages/pyarrow/pandas_compat.py:373: FutureWarning: is_sparse is deprecated and will be removed in a future version. Check `isinstance(dtype, pd.SparseDtype)` instead.\n",
      "  if _pandas_api.is_sparse(col):\n"
     ]
    }
   ],
   "source": [
    "df_train = pd.DataFrame({\"ecfp\": X_train, \"y\": y_train})\n",
    "df_val = pd.DataFrame({\"ecfp\":X_val, \"y\": y_val})\n",
    "print(df_train)\n",
    "print(df_val)\n",
    "df_train.to_parquet(cfg.preprocessing.trainpath, index=False)\n",
    "df_val.to_parquet(cfg.preprocessing.valpath, index=False)"
   ]
  }
 ],
 "metadata": {
  "kernelspec": {
   "display_name": "deeplearning",
   "language": "python",
   "name": "python3"
  },
  "language_info": {
   "codemirror_mode": {
    "name": "ipython",
    "version": 3
   },
   "file_extension": ".py",
   "mimetype": "text/x-python",
   "name": "python",
   "nbconvert_exporter": "python",
   "pygments_lexer": "ipython3",
   "version": "3.10.13"
  },
  "orig_nbformat": 4
 },
 "nbformat": 4,
 "nbformat_minor": 2
}
